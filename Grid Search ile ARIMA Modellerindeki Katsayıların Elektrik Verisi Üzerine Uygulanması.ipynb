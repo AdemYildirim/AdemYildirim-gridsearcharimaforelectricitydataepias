{
 "cells": [
  {
   "cell_type": "markdown",
   "id": "d1b6c6d7",
   "metadata": {},
   "source": [
    "# Grid Search ile ARIMA Modellerindeki Katsayıların Elektrik Verisi Üzerine Uygulanması"
   ]
  },
  {
   "cell_type": "markdown",
   "id": "74b235c3",
   "metadata": {},
   "source": [
    "Bu çalışmada EPİAŞ şeffaflık platformunda bulunan verilerin Grid Search ile ARIMA modellerindeki katsayıların hesaplanması hedeflenmektedir. Çekilen tüm veriler saatliktir. Çekilen veriler aşağıdaki tarih aralığındadırlar.\n",
    "\n",
    "* Başlangıç Tarihi : 01 Ocak 2018\n",
    "* Bitiş Tarihi : 30 Haziran 2024"
   ]
  },
  {
   "cell_type": "code",
   "execution_count": 12,
   "id": "62a21578",
   "metadata": {},
   "outputs": [],
   "source": [
    "import pandas as pd\n",
    "import requests as rq\n",
    "import json\n",
    "import numpy as np\n",
    "import matplotlib.pyplot as plt\n",
    "import math\n",
    "import seaborn as sns\n",
    "from matplotlib import pyplot\n",
    "import statsmodels.api as sm\n",
    "from statsmodels.tsa.arima.model import ARIMA\n",
    "from sklearn.metrics import mean_squared_error"
   ]
  },
  {
   "cell_type": "markdown",
   "id": "89879ddd",
   "metadata": {},
   "source": [
    "Kütüphaneler yüklendi. Sonraki bölümlerde kullanılacak olan fourier dönüşümü için Python'un içinde olan hazır komut kullanıldı. Bu komut fast fourier transfor(fft) olarak adlandırılmaktadır.  "
   ]
  },
  {
   "cell_type": "code",
   "execution_count": 2,
   "id": "aa22735c",
   "metadata": {},
   "outputs": [],
   "source": [
    "date1 = \"2018-01-01T00:00:00+03:00\"\n",
    "date2 = \"2020-12-31T00:00:00+03:00\" #sontarihin tamamını alıyor\n",
    "date3 = \"2021-01-01T00:00:00+03:00\" #sontarihin tamamını alıyor\n",
    "date4 = \"2023-12-31T00:00:00+03:00\" #sontarihin tamamını alıyor\n",
    "date5 = \"2024-01-01T00:00:00+03:00\" #sontarihin tamamını alıyor\n",
    "date6 = \"2024-06-30T00:00:00+03:00\" #sontarihin tamamını alıyor\n",
    "\n",
    "base_path = \"https://seffaflik.epias.com.tr/electricity-service\"\n",
    "header={\"Content-Type\" : \"application/json\"}"
   ]
  },
  {
   "cell_type": "markdown",
   "id": "4fa39f86",
   "metadata": {},
   "source": [
    "Epiaş'ın şeffaflık veri setinde bulunan veriler API ile elde edildi. Bu veriler için kullanılan web servis 2024 yılı için yeniden yayınlanan servistir. Bu verilerin çekilmesi gerekli olan tarih aralıkları farklıdır ve bu sebeple ön tarihler belirlendi."
   ]
  },
  {
   "cell_type": "code",
   "execution_count": 3,
   "id": "4410da42",
   "metadata": {},
   "outputs": [],
   "source": [
    "ptfparam1  = json.dumps({\"startDate\": date1, \"endDate\": date2,\"page\": {\"number\": \"\", \"size\": \"\", \"total\": \"\", \"sort\": {\"field\": \"date\",  \"direction\": \"ASC\"}}})\n",
    "ptfparam2  = json.dumps({\"startDate\": date3, \"endDate\": date4,\"page\": {\"number\": \"\", \"size\": \"\", \"total\": \"\", \"sort\": {\"field\": \"date\",  \"direction\": \"ASC\"}}})\n",
    "ptfparam3  = json.dumps({\"startDate\": date5, \"endDate\": date6,\"page\": {\"number\": \"\", \"size\": \"\", \"total\": \"\", \"sort\": {\"field\": \"date\",  \"direction\": \"ASC\"}}})\n",
    "\n",
    "ptf1  = rq.request(\"POST\", base_path+\"/v1/markets/dam/data/mcp\",  data = ptfparam1, headers=header)\n",
    "ptf2  = rq.request(\"POST\", base_path+\"/v1/markets/dam/data/mcp\",  data = ptfparam2, headers=header)\n",
    "ptf3  = rq.request(\"POST\", base_path+\"/v1/markets/dam/data/mcp\",  data = ptfparam3, headers=header)\n",
    "\n",
    "ptf1  = ptf1.json()\n",
    "ptf2  = ptf2.json()\n",
    "ptf3  = ptf3.json()\n",
    "\n",
    "ptf1  = pd.DataFrame(ptf1[\"items\"])\n",
    "ptf2  = pd.DataFrame(ptf2[\"items\"])\n",
    "ptf3  = pd.DataFrame(ptf3[\"items\"])\n",
    "\n",
    "ptf   = pd.concat([ptf1, ptf2 ,ptf3],axis = 0)"
   ]
  },
  {
   "cell_type": "markdown",
   "id": "970e5837",
   "metadata": {},
   "source": [
    "Piyasa takas fiyatı, EPİAŞ tarafından saatlik olarak açıklanmaktadır ve bir gün sonrası için aynı gün saat 14:00 kesinleşmektedir. Bu veriler çekilirken en fazla 3 yıllık tarih aralığı verilebilmektedir. Bu sebeple 3 aşamada çekilmiştir. Ayrı ayrı çekilen 3 tablo en sonunda birleştirilmiştir."
   ]
  },
  {
   "cell_type": "code",
   "execution_count": 4,
   "id": "39cdd343",
   "metadata": {},
   "outputs": [],
   "source": [
    "conparam1  = json.dumps({\"startDate\": date1, \"endDate\": date2,\"page\": {\"number\": \"\", \"size\": \"\", \"total\": \"\", \"sort\": {\"field\": \"date\",  \"direction\": \"ASC\"}}})\n",
    "conparam2  = json.dumps({\"startDate\": date3, \"endDate\": date4,\"page\": {\"number\": \"\", \"size\": \"\", \"total\": \"\", \"sort\": {\"field\": \"date\",  \"direction\": \"ASC\"}}})\n",
    "conparam3  = json.dumps({\"startDate\": date5, \"endDate\": date6,\"page\": {\"number\": \"\", \"size\": \"\", \"total\": \"\", \"sort\": {\"field\": \"date\",  \"direction\": \"ASC\"}}})\n",
    "\n",
    "consumption1  = rq.request(\"POST\", base_path+\"/v1/consumption/data/realtime-consumption\",  data = conparam1, headers=header)\n",
    "consumption2  = rq.request(\"POST\", base_path+\"/v1/consumption/data/realtime-consumption\",  data = conparam2, headers=header)\n",
    "consumption3  = rq.request(\"POST\", base_path+\"/v1/consumption/data/realtime-consumption\",  data = conparam3, headers=header)\n",
    "\n",
    "consumption1  = consumption1.json()\n",
    "consumption2  = consumption2.json()\n",
    "consumption3  = consumption3.json()\n",
    "\n",
    "consumption1  = pd.DataFrame(consumption1[\"items\"])\n",
    "consumption2  = pd.DataFrame(consumption2[\"items\"])\n",
    "consumption3  = pd.DataFrame(consumption3[\"items\"])\n",
    "\n",
    "consumption   = pd.concat([consumption1, consumption2 ,consumption3],axis = 0)"
   ]
  },
  {
   "cell_type": "markdown",
   "id": "a89d58c1",
   "metadata": {},
   "source": [
    "Yukarıdaki hücrede gerçek zamanlı eletrik tüketimi verisi elde edilmiştir. PTF tablolarında olduğuna benzer şekilde 3 aşamda çekilmiş ve nihai tablo birleştirmiştir. Bu veri saatlik olarak açıklanmaktadır ve tüm Türkiye yük durumunu göstermektedir."
   ]
  },
  {
   "cell_type": "code",
   "execution_count": 5,
   "id": "a289f9a7",
   "metadata": {},
   "outputs": [],
   "source": [
    "proparam1  = json.dumps({\"startDate\": \"2018-01-01T00:00:00+03:00\", \"endDate\": \"2018-12-31T00:00:00+03:00\",\"page\": {\"number\": \"\", \"size\": \"\", \"total\": \"\", \"sort\": {\"field\": \"date\",  \"direction\": \"ASC\"}}})\n",
    "proparam2  = json.dumps({\"startDate\": \"2019-01-01T00:00:00+03:00\", \"endDate\": \"2019-12-31T00:00:00+03:00\",\"page\": {\"number\": \"\", \"size\": \"\", \"total\": \"\", \"sort\": {\"field\": \"date\",  \"direction\": \"ASC\"}}})\n",
    "proparam3  = json.dumps({\"startDate\": \"2020-01-01T00:00:00+03:00\", \"endDate\": \"2020-12-31T00:00:00+03:00\",\"page\": {\"number\": \"\", \"size\": \"\", \"total\": \"\", \"sort\": {\"field\": \"date\",  \"direction\": \"ASC\"}}})\n",
    "proparam4  = json.dumps({\"startDate\": \"2021-01-01T00:00:00+03:00\", \"endDate\": \"2021-12-31T00:00:00+03:00\",\"page\": {\"number\": \"\", \"size\": \"\", \"total\": \"\", \"sort\": {\"field\": \"date\",  \"direction\": \"ASC\"}}})\n",
    "proparam5  = json.dumps({\"startDate\": \"2022-01-01T00:00:00+03:00\", \"endDate\": \"2022-12-31T00:00:00+03:00\",\"page\": {\"number\": \"\", \"size\": \"\", \"total\": \"\", \"sort\": {\"field\": \"date\",  \"direction\": \"ASC\"}}})\n",
    "proparam6  = json.dumps({\"startDate\": \"2023-01-01T00:00:00+03:00\", \"endDate\": \"2023-12-31T00:00:00+03:00\",\"page\": {\"number\": \"\", \"size\": \"\", \"total\": \"\", \"sort\": {\"field\": \"date\",  \"direction\": \"ASC\"}}})\n",
    "proparam7  = json.dumps({\"startDate\": \"2024-01-01T00:00:00+03:00\", \"endDate\": date6 ,\"page\": {\"number\": \"\", \"size\": \"\", \"total\": \"\", \"sort\": {\"field\": \"date\",  \"direction\": \"ASC\"}}})\n",
    "\n",
    "production1  = rq.request(\"POST\", base_path+\"/v1/generation/data/realtime-generation\",  data = proparam1, headers=header)\n",
    "production2  = rq.request(\"POST\", base_path+\"/v1/generation/data/realtime-generation\",  data = proparam2, headers=header)\n",
    "production3  = rq.request(\"POST\", base_path+\"/v1/generation/data/realtime-generation\",  data = proparam3, headers=header)\n",
    "production4  = rq.request(\"POST\", base_path+\"/v1/generation/data/realtime-generation\",  data = proparam4, headers=header)\n",
    "production5  = rq.request(\"POST\", base_path+\"/v1/generation/data/realtime-generation\",  data = proparam5, headers=header)\n",
    "production6  = rq.request(\"POST\", base_path+\"/v1/generation/data/realtime-generation\",  data = proparam6, headers=header)\n",
    "production7  = rq.request(\"POST\", base_path+\"/v1/generation/data/realtime-generation\",  data = proparam7, headers=header)\n",
    "\n",
    "production1 = production1.json()\n",
    "production2 = production2.json()\n",
    "production3 = production3.json()\n",
    "production4 = production4.json()\n",
    "production5 = production5.json()\n",
    "production6 = production6.json()\n",
    "production7 = production7.json()\n",
    "\n",
    "production1 = pd.DataFrame(production1[\"items\"])\n",
    "production2 = pd.DataFrame(production2[\"items\"])\n",
    "production3 = pd.DataFrame(production3[\"items\"])\n",
    "production4 = pd.DataFrame(production4[\"items\"])\n",
    "production5 = pd.DataFrame(production5[\"items\"])\n",
    "production6 = pd.DataFrame(production6[\"items\"])\n",
    "production7 = pd.DataFrame(production7[\"items\"])\n",
    "\n",
    "production01   = pd.concat([production1, production2 ,production3,production4,production5,production6,production7],axis = 0)"
   ]
  },
  {
   "cell_type": "markdown",
   "id": "36b0c279",
   "metadata": {},
   "source": [
    "Bu hücrede lisanslı elektrik üretim miktarı elde edilmiştir. Lisans, EPİAŞ tarafından lisans yönetmeliğinde belirtilen kurulu gücün üstünde olan piyasa katılımcılarına verilmektedir. Bu veriler senelik elde edilebilmektedir ve 7 aşamada çekilmiştir. Saatlik ve kaynak bazlı olarak veriler ayrılmıştır."
   ]
  },
  {
   "cell_type": "code",
   "execution_count": 7,
   "id": "fa89a464",
   "metadata": {},
   "outputs": [],
   "source": [
    "production11  = rq.request(\"POST\", base_path+\"/v1/renewables/data/unlicensed-generation-amount\",  data = proparam1, headers=header)\n",
    "production12  = rq.request(\"POST\", base_path+\"/v1/renewables/data/unlicensed-generation-amount\",  data = proparam2, headers=header)\n",
    "production13  = rq.request(\"POST\", base_path+\"/v1/renewables/data/unlicensed-generation-amount\",  data = proparam3, headers=header)\n",
    "production14  = rq.request(\"POST\", base_path+\"/v1/renewables/data/unlicensed-generation-amount\",  data = proparam4, headers=header)\n",
    "production15  = rq.request(\"POST\", base_path+\"/v1/renewables/data/unlicensed-generation-amount\",  data = proparam5, headers=header)\n",
    "production16  = rq.request(\"POST\", base_path+\"/v1/renewables/data/unlicensed-generation-amount\",  data = proparam6, headers=header)\n",
    "production17  = rq.request(\"POST\", base_path+\"/v1/renewables/data/unlicensed-generation-amount\",  data = proparam7, headers=header)\n",
    "\n",
    "production11 = production11.json()\n",
    "production12 = production12.json()\n",
    "production13 = production13.json()\n",
    "production14 = production14.json()\n",
    "production15 = production15.json()\n",
    "production16 = production16.json()\n",
    "production17 = production17.json()\n",
    "\n",
    "production11 = pd.DataFrame(production11[\"items\"])\n",
    "production12 = pd.DataFrame(production12[\"items\"])\n",
    "production13 = pd.DataFrame(production13[\"items\"])\n",
    "production14 = pd.DataFrame(production14[\"items\"])\n",
    "production15 = pd.DataFrame(production15[\"items\"])\n",
    "production16 = pd.DataFrame(production16[\"items\"])\n",
    "production17 = pd.DataFrame(production17[\"items\"])\n",
    "\n",
    "production02   = pd.concat([production11, production12 ,production13,production14,production15,production16,production17],axis = 0)"
   ]
  },
  {
   "cell_type": "markdown",
   "id": "5603e686",
   "metadata": {},
   "source": [
    "Yularıdaki hücrede lisanssız üretim miktarı elde edilmiştir. Lisanssız santraller, kurulu gücü belli bir değerin altında olduğu için EPİAŞ tarafından lisans alamamış piyasa katılımcılarıdır. Lisanssız üretime göre santral sayısı fazladır ve santral başına düşen üretim azdır. Bu tablolarda lisanslı üretim tablolarına benzer olarak senelik çekilebilmektedir. 7 aşamada çekilmiştir. Saatlik ve kaynak bazlı olarak veriler ayrılmıştır."
   ]
  },
  {
   "cell_type": "code",
   "execution_count": 8,
   "id": "841f914f",
   "metadata": {},
   "outputs": [],
   "source": [
    "ptf          = ptf \n",
    "consumption  = consumption.drop(columns=['date', 'time'])\n",
    "production01 = production01.drop(columns=['date', 'hour'])\n",
    "production02 = production02.drop(columns=['date', 'time'])\n",
    "\n",
    "hourlydata = pd.concat([ptf.reset_index(), consumption.reset_index(), production01.reset_index(), production02.reset_index()], axis = 1 )"
   ]
  },
  {
   "cell_type": "markdown",
   "id": "91b0fb84",
   "metadata": {},
   "source": [
    "Elde edilen piyasa takas fiyatı, elektrik tüketimi, lisanslı ve lisanssız elektrik üretimi \"hourlydata\" isimli tablo ile birleştirilmiştir. Çekilen veri aralığı tüm tablolarda aynıdır. Aynı tarihler için saatlik verilerdir."
   ]
  },
  {
   "cell_type": "code",
   "execution_count": 11,
   "id": "d228473f",
   "metadata": {},
   "outputs": [],
   "source": [
    "p_range = range(14*24)  \n",
    "d_range = range(14*24)\n",
    "q_range = range(14*24)\n",
    "best_score, best_cfg = 0.05 , None"
   ]
  },
  {
   "cell_type": "raw",
   "id": "0eba86f9",
   "metadata": {},
   "source": [
    "ARIMA modellerinde kullanılacak olan p,d,q katsayılarının aralığı belirlendi. Daha önceki çalışmalarda kullanılan günlük ve haftalık profiller baz alınarak aralıklar 2 haftalık tutuldu. Veri saatlik olduğu için 24*14 kadar aralık belirlendi. "
   ]
  },
  {
   "cell_type": "code",
   "execution_count": 13,
   "id": "6b02c45b",
   "metadata": {},
   "outputs": [],
   "source": [
    " def gridsearch(x):   \n",
    "    for p in p_range:\n",
    "        for d in d_range:\n",
    "            for q in q_range:\n",
    "                order = (p, d, q)\n",
    "                try:\n",
    "                    # ARIMA modelini oluştur ve uydur\n",
    "                    model = ARIMA(x, order=order)\n",
    "                    model_fit = model.fit()\n",
    "\n",
    "                    # Modelin performansını değerlendir (örneğin, MSE kullanarak)\n",
    "                    mape = mean_absolute_percentage_error(x, model_fit.fittedvalues)\n",
    "\n",
    "                    # En iyi skoru ve yapılandırmayı güncelle\n",
    "                    if mape < best_score:\n",
    "                        best_score, best_cfg = mape, order\n",
    "\n",
    "                    print(f'ARIMA{order} MSE={mse}')\n",
    "\n",
    "                except:\n",
    "                    continue\n",
    "    print('En iyi Konfigürasyon: ARIMA%s MSE=%.3f' % (best_cfg, best_score))\n"
   ]
  },
  {
   "cell_type": "code",
   "execution_count": null,
   "id": "7f0403e7",
   "metadata": {},
   "outputs": [],
   "source": [
    "gridsearch(hourlydata['priceUsd'])"
   ]
  },
  {
   "cell_type": "code",
   "execution_count": null,
   "id": "17cbc725",
   "metadata": {},
   "outputs": [],
   "source": []
  }
 ],
 "metadata": {
  "kernelspec": {
   "display_name": "_scripting310w (Dev)",
   "language": "python",
   "name": "_scripting310w_dev"
  },
  "language_info": {
   "codemirror_mode": {
    "name": "ipython",
    "version": 3
   },
   "file_extension": ".py",
   "mimetype": "text/x-python",
   "name": "python",
   "nbconvert_exporter": "python",
   "pygments_lexer": "ipython3",
   "version": "3.10.12"
  }
 },
 "nbformat": 4,
 "nbformat_minor": 5
}
